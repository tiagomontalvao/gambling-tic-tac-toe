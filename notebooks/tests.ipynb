{
 "cells": [
  {
   "cell_type": "code",
   "execution_count": 1,
   "metadata": {},
   "outputs": [],
   "source": [
    "import matplotlib.pyplot as plt\n",
    "import numpy as np\n",
    "import pandas as pd\n",
    "import torch"
   ]
  },
  {
   "cell_type": "code",
   "execution_count": 83,
   "metadata": {},
   "outputs": [
    {
     "data": {
      "text/plain": [
       "tensor([10., 20.,  0.,  1.,  0., -1.,  0., -1.,  0.,  1., -1.])"
      ]
     },
     "execution_count": 83,
     "metadata": {},
     "output_type": "execute_result"
    }
   ],
   "source": [
    "state = torch.Tensor([10, 20, 0, 1, 0, -1, 0, -1, 0, 1, -1])\n",
    "state"
   ]
  },
  {
   "cell_type": "code",
   "execution_count": 84,
   "metadata": {},
   "outputs": [
    {
     "data": {
      "text/plain": [
       "tensor([20., 10.,  1.,  0.,  1., -1.,  1., -1.,  1.,  0., -1.])"
      ]
     },
     "execution_count": 84,
     "metadata": {},
     "output_type": "execute_result"
    }
   ],
   "source": [
    "state2 = state.clone()\n",
    "state2[:2] = torch.flip(state[:2], (0,))\n",
    "state2[2:][state[2:]>=0] = 1-state[2:][state[2:]>=0]\n",
    "state2"
   ]
  },
  {
   "cell_type": "markdown",
   "metadata": {},
   "source": [
    "```\n",
    "before add_noise actions.shape (1, 10)\n",
    "\n",
    "before add_noise actions [[0.5017605  0.10619526 0.11226608 0.10796383 0.10796707 0.10629854\n",
    "  0.11431848 0.11433034 0.11272876 0.11793164]]\n",
    "  \n",
    "self.noise.sample().shape (1,)\n",
    "\n",
    "self.noise.sample() [-0.00929737]\n",
    "\n",
    "after add_noise actions.shape (1, 10)\n",
    "\n",
    "after add_noise actions [[0.4800407  0.10619526 0.11226608 0.10796383 0.10796707 0.10629854\n",
    "  0.11431848 0.11433034 0.11272876 0.11793164]]\n",
    "```"
   ]
  },
  {
   "cell_type": "code",
   "execution_count": null,
   "metadata": {},
   "outputs": [],
   "source": []
  }
 ],
 "metadata": {
  "kernelspec": {
   "display_name": "Python 3",
   "language": "python",
   "name": "python3"
  },
  "language_info": {
   "codemirror_mode": {
    "name": "ipython",
    "version": 3
   },
   "file_extension": ".py",
   "mimetype": "text/x-python",
   "name": "python",
   "nbconvert_exporter": "python",
   "pygments_lexer": "ipython3",
   "version": "3.7.4"
  }
 },
 "nbformat": 4,
 "nbformat_minor": 2
}
