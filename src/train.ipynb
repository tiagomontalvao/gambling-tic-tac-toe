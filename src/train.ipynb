{
 "cells": [
  {
   "cell_type": "code",
   "execution_count": 1,
   "metadata": {},
   "outputs": [],
   "source": [
    "%load_ext autoreload\n",
    "%autoreload 2"
   ]
  },
  {
   "cell_type": "code",
   "execution_count": 2,
   "metadata": {},
   "outputs": [],
   "source": [
    "import matplotlib.pyplot as plt\n",
    "import numpy as np\n",
    "import pandas as pd\n",
    "import time\n",
    "from collections import deque\n",
    "\n",
    "from controllers.game_controller import GameController\n",
    "from drl.agent import DRLAgent\n",
    "from models.players.random_player import RandomPlayer\n",
    "from models.players.drl_player import DRLPlayer\n",
    "from utils import get_reward_from_winner"
   ]
  },
  {
   "cell_type": "code",
   "execution_count": 3,
   "metadata": {},
   "outputs": [],
   "source": [
    "def run_validation(drl_players, n_episodes_validation):\n",
    "    game_controller = GameController()\n",
    "    game_controller.view.update_view(print_function=lambda *args, **kwargs: 0)\n",
    "    players = [\n",
    "        drl_players[0],\n",
    "        RandomPlayer(1, game_controller.game)\n",
    "    ]\n",
    "    game_controller.players = players\n",
    "    \n",
    "    # Disable train mode\n",
    "    players[0].train_mode = False\n",
    "\n",
    "    validation_scores = []\n",
    "    for i in range(1, n_episodes_validation+1):\n",
    "        episode_winner = game_controller.run_episode(eval_mode=True)\n",
    "        validation_score = get_reward_from_winner(0, episode_winner)\n",
    "        validation_scores.append(validation_score)\n",
    "    \n",
    "    # Re-enable train mode\n",
    "    players[0].train_mode = True\n",
    "    \n",
    "    return np.mean(validation_scores)"
   ]
  },
  {
   "cell_type": "code",
   "execution_count": 4,
   "metadata": {},
   "outputs": [],
   "source": [
    "def init_train(game_controller, drl_players, model_path=None, \n",
    "                                eps_start=1.0, eps_end=0.01, eps_decay=0.9999):\n",
    "        n_episodes = 100\n",
    "        checkpoint_each = 500\n",
    "        validate_each = 5\n",
    "        n_episodes_validation = 10\n",
    "        train_args = {\n",
    "            'eps': eps_start,\n",
    "            'eps_end': eps_end,\n",
    "            'eps_decay': eps_decay\n",
    "        }\n",
    "        \n",
    "        game_controller.view.update_view(print_function=lambda *args, **kwargs: 0)\n",
    "        game_controller._load_train(drl_players)\n",
    "        for player in range(2):\n",
    "            drl_players[player].update_epsilon(eps_start)\n",
    "\n",
    "        winners = []\n",
    "        try:\n",
    "            validation_scores = []\n",
    "            validation_scores_window = deque(maxlen=100)\n",
    "            start = time.time()\n",
    "            for i in range(1, n_episodes+1):\n",
    "                episode_winner = game_controller.run_episode(train_mode=True, train_args=train_args)\n",
    "                winners.append(episode_winner)\n",
    "                game_controller.game.reset()\n",
    "\n",
    "                if i%validate_each == 0:\n",
    "                    mean_validation_score = run_validation(drl_players, n_episodes_validation)\n",
    "\n",
    "                    validation_scores.append(mean_validation_score)\n",
    "                    validation_scores_window.append(mean_validation_score)\n",
    "                    mean_validation_score_last_runs = np.mean(validation_scores_window)\n",
    "\n",
    "                    print(\"\\rEpisode #{:4d}  |  \"\n",
    "                        \"Val. Score: {:+5.2f}  |  \"\n",
    "                        \"Avg. Val. Score: {:+5.2f}  |  \"\n",
    "                        \"Epsilon: {:5.3f}  |  \"\n",
    "                        \"Time elapsed: {:.2f}s\".format(i, mean_validation_score,\n",
    "                                            mean_validation_score_last_runs, train_args['eps'], time.time() - start)\n",
    "                    )\n",
    "\n",
    "                if i%checkpoint_each == 0:\n",
    "                    drl_players[0].agent.save_model()\n",
    "                    print('Checkpoint saved!')\n",
    "        except KeyboardInterrupt:\n",
    "            pass\n",
    "\n",
    "        # save model after all episodes\n",
    "        drl_players[0].agent.save_model(model_path)\n",
    "        print('Model saved!')\n",
    "\n",
    "        return validation_scores"
   ]
  },
  {
   "cell_type": "code",
   "execution_count": 5,
   "metadata": {},
   "outputs": [],
   "source": [
    "def plot_metrics(metrics):\n",
    "    fig, ax = plt.subplots(figsize=(18,6))\n",
    "    ax.plot(metrics)\n",
    "    pd.Series(metrics).rolling(100, 1).mean().plot(ax=ax, label='MA(100)')\n",
    "    plt.show()"
   ]
  },
  {
   "cell_type": "code",
   "execution_count": 6,
   "metadata": {},
   "outputs": [],
   "source": [
    "controller = GameController()\n",
    "drl_agent = DRLAgent(\n",
    "    state_size=controller.game.N*controller.game.N+2,\n",
    "    bid_action_size=1,\n",
    "    board_action_size=controller.game.N*controller.game.N,\n",
    "    seed=None,\n",
    "    checkpoint_path='../checkpoints/checkpoint.pt'\n",
    ")"
   ]
  },
  {
   "cell_type": "code",
   "execution_count": 7,
   "metadata": {},
   "outputs": [
    {
     "name": "stdout",
     "output_type": "stream",
     "text": [
      "Episode #   5  |  Val. Score: +1.00  |  Avg. Val. Score: +1.00  |  Epsilon: 0.996  |  Time elapsed: 0.14s\n",
      "Episode #  10  |  Val. Score: +1.00  |  Avg. Val. Score: +1.00  |  Epsilon: 0.993  |  Time elapsed: 0.21s\n",
      "Episode #  15  |  Val. Score: +1.00  |  Avg. Val. Score: +1.00  |  Epsilon: 0.989  |  Time elapsed: 0.30s\n",
      "Episode #  20  |  Val. Score: +1.00  |  Avg. Val. Score: +1.00  |  Epsilon: 0.986  |  Time elapsed: 0.37s\n",
      "Episode #  25  |  Val. Score: +1.00  |  Avg. Val. Score: +1.00  |  Epsilon: 0.983  |  Time elapsed: 0.44s\n",
      "Episode #  30  |  Val. Score: +1.00  |  Avg. Val. Score: +1.00  |  Epsilon: 0.981  |  Time elapsed: 0.49s\n",
      "Episode #  35  |  Val. Score: +1.00  |  Avg. Val. Score: +1.00  |  Epsilon: 0.977  |  Time elapsed: 0.58s\n",
      "Episode #  40  |  Val. Score: +1.00  |  Avg. Val. Score: +1.00  |  Epsilon: 0.973  |  Time elapsed: 0.65s\n",
      "Episode #  45  |  Val. Score: +1.00  |  Avg. Val. Score: +1.00  |  Epsilon: 0.970  |  Time elapsed: 0.71s\n",
      "Episode #  50  |  Val. Score: -1.00  |  Avg. Val. Score: +0.80  |  Epsilon: 0.967  |  Time elapsed: 0.77s\n",
      "Episode #  55  |  Val. Score: +1.00  |  Avg. Val. Score: +0.82  |  Epsilon: 0.964  |  Time elapsed: 0.84s\n",
      "Episode #  60  |  Val. Score: +1.00  |  Avg. Val. Score: +0.83  |  Epsilon: 0.961  |  Time elapsed: 0.88s\n",
      "Episode #  65  |  Val. Score: -1.00  |  Avg. Val. Score: +0.69  |  Epsilon: 0.959  |  Time elapsed: 6.44s\n",
      "Episode #  70  |  Val. Score: -1.00  |  Avg. Val. Score: +0.57  |  Epsilon: 0.956  |  Time elapsed: 16.68s\n",
      "Episode #  75  |  Val. Score: -1.00  |  Avg. Val. Score: +0.47  |  Epsilon: 0.953  |  Time elapsed: 28.49s\n",
      "Episode #  80  |  Val. Score: -1.00  |  Avg. Val. Score: +0.38  |  Epsilon: 0.951  |  Time elapsed: 36.85s\n",
      "Episode #  85  |  Val. Score: -1.00  |  Avg. Val. Score: +0.29  |  Epsilon: 0.950  |  Time elapsed: 43.05s\n",
      "Episode #  90  |  Val. Score: +1.00  |  Avg. Val. Score: +0.33  |  Epsilon: 0.947  |  Time elapsed: 55.31s\n",
      "Episode #  95  |  Val. Score: -1.00  |  Avg. Val. Score: +0.26  |  Epsilon: 0.944  |  Time elapsed: 65.53s\n",
      "Episode # 100  |  Val. Score: -1.00  |  Avg. Val. Score: +0.20  |  Epsilon: 0.941  |  Time elapsed: 75.93s\n",
      "Model saved!\n"
     ]
    }
   ],
   "source": [
    "eps_start = 1.0\n",
    "eps_end = 0.01\n",
    "eps_decay = 0.9999\n",
    "drl_players = [DRLPlayer(i, controller.game, drl_agent, train_mode=True) for i in range(2)]\n",
    "validation_scores = init_train(controller, drl_players, model_path='../checkpoints/model.pt',\n",
    "                   eps_start=eps_start, eps_end=eps_end, eps_decay=eps_decay)"
   ]
  },
  {
   "cell_type": "code",
   "execution_count": 8,
   "metadata": {
    "scrolled": true
   },
   "outputs": [
    {
     "data": {
      "image/png": "[encoded data removed]",
      "text/plain": [
       "<Figure size 1296x432 with 1 Axes>"
      ]
     },
     "metadata": {
      "needs_background": "light"
     },
     "output_type": "display_data"
    }
   ],
   "source": [
    "plot_metrics(validation_scores)"
   ]
  },
  {
   "cell_type": "code",
   "execution_count": 9,
   "metadata": {},
   "outputs": [],
   "source": [
    "# drl_agent.save_model('../checkpoints/model_final.pt')"
   ]
  },
  {
   "cell_type": "code",
   "execution_count": null,
   "metadata": {
    "scrolled": false
   },
   "outputs": [
    {
     "name": "stdout",
     "output_type": "stream",
     "text": [
      "Select one of the following players to be player 1\n",
      "0 - ./models/players/drl_player.py\n",
      "1 - ./models/players/human_player.py\n",
      "2 - ./models/players/random_player.py\n"
     ]
    }
   ],
   "source": [
    "controller.reset_game()"
   ]
  }
 ],
 "metadata": {
  "kernelspec": {
   "display_name": "Python 3",
   "language": "python",
   "name": "python3"
  },
  "language_info": {
   "codemirror_mode": {
    "name": "ipython",
    "version": 3
   },
   "file_extension": ".py",
   "mimetype": "text/x-python",
   "name": "python",
   "nbconvert_exporter": "python",
   "pygments_lexer": "ipython3",
   "version": "3.7.4"
  }
 },
 "nbformat": 4,
 "nbformat_minor": 4
}
